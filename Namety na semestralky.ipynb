{
 "cells": [
  {
   "cell_type": "markdown",
   "metadata": {},
   "source": [
    "# Ďalšie knižnice\n",
    "\n",
    "#### The Python Package Index (PyPI) is a repository of software for the Python programming language. \n",
    "\n",
    "PyPI helps you find and install software developed and shared by the Python community.\n",
    "\n",
    "https://pypi.org/"
   ]
  },
  {
   "cell_type": "markdown",
   "metadata": {},
   "source": [
    "## Grafy a siete\n",
    "\n",
    "#### - Networkx\n",
    "\n",
    "https://networkx.github.io/documentation/networkx-1.10/tutorial/tutorial.html\n",
    "\n",
    "#### - graph-tool\n",
    "\n",
    "https://graph-tool.skewed.de/"
   ]
  },
  {
   "cell_type": "markdown",
   "metadata": {},
   "source": [
    "## Matematické modelovanie\n",
    "\n",
    "#### - ortools\n",
    "\n",
    "#### - simpy\n",
    "\n",
    "#### - lpsolve\n"
   ]
  },
  {
   "cell_type": "markdown",
   "metadata": {},
   "source": [
    "## Grafika\n",
    "\n",
    "#### - bokeh\n",
    "\n",
    "https://docs.bokeh.org/en/latest/index.html\n",
    "\n",
    "#### - plotly\n",
    "\n",
    "https://plot.ly/python/\n",
    "\n",
    "#### - matplotlib\n",
    "\n",
    "#### - pythreejs\n",
    "\n",
    "3D grafika pre Jupyter notebook\n",
    "\n",
    "https://pythreejs.readthedocs.io/en/stable/\n",
    "\n",
    "#### - holowiews\n"
   ]
  },
  {
   "cell_type": "markdown",
   "metadata": {},
   "source": [
    "## GUI\n",
    "\n",
    "#### - PyQt\n",
    "\n",
    "#### - PySide\n",
    "\n",
    "#### - tkinter\n",
    "\n",
    "#### - Kivy\n",
    "\n",
    "https://www.pythonguis.com/faq/which-python-gui-library/"
   ]
  },
  {
   "cell_type": "markdown",
   "metadata": {},
   "source": [
    "## Štatistika\n",
    "\n",
    "#### - seaborn\n",
    "\n",
    "https://seaborn.pydata.org/\n",
    "\n",
    "#### - altair\n"
   ]
  },
  {
   "cell_type": "markdown",
   "metadata": {},
   "source": [
    "## Web\n",
    "\n",
    "#### - flask\n",
    "\n",
    "https://flask.palletsprojects.com/en/3.0.x/\n",
    "\n",
    "#### - panel\n",
    "\n",
    "https://panel.holoviz.org/\n",
    "\n",
    "#### - django\n",
    "\n",
    "https://www.djangoproject.com/\n",
    "\n",
    "#### - BeautifulSoup\n",
    "\n",
    "https://www.crummy.com/software/BeautifulSoup/bs4/doc/\n",
    "\n",
    "#### - selenium\n",
    "\n",
    "https://www.geeksforgeeks.org/selenium-python-tutorial/"
   ]
  },
  {
   "cell_type": "markdown",
   "metadata": {},
   "source": [
    "## Hry\n",
    "\n",
    "\n",
    "#### - pyglet\n",
    "\n",
    "#### - jupylet\n",
    "\n",
    "#### - panda3D\n",
    "\n",
    "https://www.panda3d.org/\n",
    "\n",
    "#### - ursina\n",
    "\n",
    "#### - raylib\n",
    "\n",
    "#### - blender\n",
    "\n",
    "#### - arcade\n",
    "\n",
    "#### - pygame\n",
    "(už sa nevyvíja)"
   ]
  },
  {
   "cell_type": "code",
   "execution_count": null,
   "metadata": {},
   "outputs": [],
   "source": []
  }
 ],
 "metadata": {
  "kernelspec": {
   "display_name": "Python 3 (ipykernel)",
   "language": "python",
   "name": "python3"
  },
  "language_info": {
   "codemirror_mode": {
    "name": "ipython",
    "version": 3
   },
   "file_extension": ".py",
   "mimetype": "text/x-python",
   "name": "python",
   "nbconvert_exporter": "python",
   "pygments_lexer": "ipython3",
   "version": "3.10.8"
  },
  "latex_envs": {
   "LaTeX_envs_menu_present": true,
   "autoclose": false,
   "autocomplete": true,
   "bibliofile": "biblio.bib",
   "cite_by": "apalike",
   "current_citInitial": 1,
   "eqLabelWithNumbers": true,
   "eqNumInitial": 1,
   "hotkeys": {
    "equation": "Ctrl-E",
    "itemize": "Ctrl-I"
   },
   "labels_anchors": false,
   "latex_user_defs": false,
   "report_style_numbering": false,
   "user_envs_cfg": false
  }
 },
 "nbformat": 4,
 "nbformat_minor": 4
}
